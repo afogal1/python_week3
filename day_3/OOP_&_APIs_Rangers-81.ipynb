{
 "cells": [
  {
   "cell_type": "markdown",
   "metadata": {},
   "source": [
    "# Object Oriented Programming 2 - examples and APIs\n"
   ]
  },
  {
   "cell_type": "markdown",
   "metadata": {},
   "source": [
    "## Tasks Today:\n",
    "\n",
    "   \n",
    "\n",
    "1) <b>Shopping Cart Example</b> <br>\n",
    "2) <b>Requests and the pokemon API </b> <br>\n",
    " "
   ]
  },
  {
   "cell_type": "markdown",
   "metadata": {},
   "source": [
    "# Goal \n",
    "### build a shopping cart program with prices and quantities using objects and a dictionary"
   ]
  },
  {
   "cell_type": "code",
   "execution_count": 1,
   "metadata": {},
   "outputs": [
    {
     "name": "stdout",
     "output_type": "stream",
     "text": [
      "\n",
      "Welcome to the Shopping Program.\n",
      "Options:\n",
      "[1] Show Current Cart\n",
      "[2] Add Item\n",
      "[3] Remove Item\n",
      "[4] Quit\n",
      "        \n",
      "What would you like to do? \n",
      "Invalid input... please try again.\n",
      "What would you like to do? \n",
      "Invalid input... please try again.\n",
      "What would you like to do? 4\n",
      "Buy something next time... Pls\n"
     ]
    }
   ],
   "source": [
    "# Create a class called cart that retains items and has methods to add, remove, and show\n",
    "\n",
    "# this class is just responsible for the cart object and the actions of the cart object\n",
    "class Cart():\n",
    "    def __init__(self):\n",
    "        self.items = {}\n",
    "    \n",
    "    def add(self):\n",
    "        new_item = input(\"What do you want to get? \")\n",
    "        quantity = int(input(f\"How many {new_item}s do you want? (insert number) \"))\n",
    "        if new_item not in self.items.keys():\n",
    "            self.items[new_item] = quantity\n",
    "        else:\n",
    "            self.items[new_item] += quantity\n",
    "        print(f\"{quantity} {new_item}s are in the cart!\")\n",
    "        \n",
    "    def remove(self):\n",
    "        discard = input(\"What would you like to remove? \")\n",
    "        quantity = int(input(\"How many would you like to remove? \"))\n",
    "        try:\n",
    "            self.items[discard] -= quantity\n",
    "            if self.items[discard] <= 0:\n",
    "                del self.items[discard]\n",
    "            print(f\"{quantity} {discard}s have been removed. \")\n",
    "        except:\n",
    "            print(f\"{discard} was not in your cart.\")\n",
    "        self.show()\n",
    "        \n",
    "    def show(self):\n",
    "        print(f\"Your cart contains the listed items:\")\n",
    "        for item, quantity in self.items.items():\n",
    "            print(f\"{item} | quantity: {quantity}\")\n",
    "            \n",
    "    def checkout(self):\n",
    "        if not self.items:\n",
    "            print(\"Buy something next time... Pls\")\n",
    "        else:\n",
    "            print(\"Thanks for shopping!\")\n",
    "            self.show()\n",
    "    \n",
    "# control the logic and flow/operation of our overall program\n",
    "class Main:\n",
    "    def showInstructions():\n",
    "        print(\"\"\"\n",
    "Welcome to the Shopping Program.\n",
    "Options:\n",
    "[1] Show Current Cart\n",
    "[2] Add Item\n",
    "[3] Remove Item\n",
    "[4] Quit\n",
    "        \"\"\")\n",
    "    \n",
    "    # driver code - responsible for actually calling all of my functions\n",
    "    def run():\n",
    "        Main.showInstructions()\n",
    "        my_cart = Cart()\n",
    "        invalid = 0\n",
    "        while True:\n",
    "            choice = input(\"What would you like to do? \")\n",
    "            if choice == '1':\n",
    "                invalid = 0\n",
    "                if my_cart.items == {}:\n",
    "                    print(\"Your cart is empty... start shopping!\")\n",
    "                else:\n",
    "                    my_cart.show()\n",
    "            elif choice == '2':\n",
    "                invalid = 0\n",
    "                my_cart.add()\n",
    "            elif choice == '3':\n",
    "                invalid = 0\n",
    "                if my_cart.items == {}:\n",
    "                    print(\"Your cart is empty... add something before you remove it!\")\n",
    "                else:\n",
    "                    my_cart.remove()\n",
    "            elif choice == '4':\n",
    "                invalid = 0\n",
    "                my_cart.checkout()\n",
    "                break\n",
    "            else:\n",
    "                print(\"Invalid input... please try again.\")\n",
    "                invalid += 1\n",
    "                if invalid > 5:\n",
    "                    print(\"Here are the options again:\\n[1] Show Current Cart\\n[2] Add Item\\n[3] Remove Item\\n[4] Quit\")\n",
    "\n",
    "Main.run()    \n",
    "            \n",
    "        "
   ]
  },
  {
   "cell_type": "markdown",
   "metadata": {},
   "source": [
    "# working with APIs"
   ]
  },
  {
   "cell_type": "markdown",
   "metadata": {},
   "source": [
    "<p> What exactly is an API? <br> <br>\n",
    "API is the acronym for Application Programming Interface, which is a software intermediary that allows two applications to talk to each other. Each time you use an app like Facebook, send an instant message, or check the weather on your phone, you're using an API. </p>"
   ]
  },
  {
   "cell_type": "markdown",
   "metadata": {},
   "source": [
    "### The Poke API  allows you to retreive a pokemon's information from PokeAPI https://pokeapi.co/\n",
    "\n"
   ]
  },
  {
   "cell_type": "code",
   "execution_count": 2,
   "metadata": {},
   "outputs": [
    {
     "name": "stdout",
     "output_type": "stream",
     "text": [
      "dict_keys(['abilities', 'base_experience', 'forms', 'game_indices', 'height', 'held_items', 'id', 'is_default', 'location_area_encounters', 'moves', 'name', 'order', 'past_types', 'species', 'sprites', 'stats', 'types', 'weight'])\n"
     ]
    }
   ],
   "source": [
    "# making an API call\n",
    "import requests \n",
    "\n",
    "r = requests.get('https://pokeapi.co/api/v2/pokemon/pikachu')\n",
    "if r.status_code == 200:\n",
    "    data = r.json()\n",
    "    \n",
    "print(data.keys())\n"
   ]
  },
  {
   "cell_type": "markdown",
   "metadata": {},
   "source": [
    "### Display a Pokemon's name, abilities, types, and weight"
   ]
  },
  {
   "cell_type": "code",
   "execution_count": 3,
   "metadata": {},
   "outputs": [
    {
     "name": "stdout",
     "output_type": "stream",
     "text": [
      "pikachu\n"
     ]
    }
   ],
   "source": [
    "# name, abilities, types, and weight\n",
    "# get the name\n",
    "name = data['name']\n",
    "print(name)"
   ]
  },
  {
   "cell_type": "code",
   "execution_count": 4,
   "metadata": {},
   "outputs": [
    {
     "name": "stdout",
     "output_type": "stream",
     "text": [
      "['electric']\n"
     ]
    }
   ],
   "source": [
    "# get types\n",
    "types = [pokemon['type']['name'] for pokemon in data['types']]\n",
    "\n",
    "print(types)"
   ]
  },
  {
   "cell_type": "code",
   "execution_count": 5,
   "metadata": {},
   "outputs": [
    {
     "name": "stdout",
     "output_type": "stream",
     "text": [
      "60\n"
     ]
    }
   ],
   "source": [
    "# get weight\n",
    "weight = data['weight']\n",
    "print(weight)"
   ]
  },
  {
   "cell_type": "code",
   "execution_count": 6,
   "metadata": {},
   "outputs": [
    {
     "name": "stdout",
     "output_type": "stream",
     "text": [
      "['static', 'lightning-rod']\n"
     ]
    }
   ],
   "source": [
    "# get abilities \n",
    "abilities = [pokemon['ability']['name'] for pokemon in data['abilities']]\n",
    "print(abilities)"
   ]
  },
  {
   "cell_type": "code",
   "execution_count": 7,
   "metadata": {},
   "outputs": [],
   "source": [
    "# Create a structure for a single pokemon\n",
    "pokemon_x = {\n",
    "    \n",
    "'name': '',\n",
    "'abilities': [],\n",
    "'weight': '',\n",
    "'types': []\n",
    "}\n"
   ]
  },
  {
   "cell_type": "code",
   "execution_count": 8,
   "metadata": {},
   "outputs": [
    {
     "name": "stdout",
     "output_type": "stream",
     "text": [
      "{'name': 'pikachu', 'abilities': ['static', 'lightning-rod'], 'weight': 60, 'types': ['electric']}\n"
     ]
    }
   ],
   "source": [
    "pikachu = {\n",
    "    'name': name,\n",
    "    'abilities': abilities,\n",
    "    'weight': weight,\n",
    "    'types': types\n",
    "}\n",
    "print(pikachu)"
   ]
  },
  {
   "cell_type": "markdown",
   "metadata": {},
   "source": [
    "#### Create a function to Pull in your own Pokemon's data "
   ]
  },
  {
   "cell_type": "code",
   "execution_count": 9,
   "metadata": {},
   "outputs": [],
   "source": [
    "import requests as r\n",
    "the_team = ['pikachu', 'snorlax', 'ditto', 'squirtle', 'dialga', 'jigglypuff']\n",
    "\n",
    "def poke_api_call(pokemon):\n",
    "    req = requests.get(f'https://pokeapi.co/api/v2/pokemon/{pokemon}')\n",
    "    if req.status_code == 200:\n",
    "        data = req.json()\n",
    "    \n",
    "        name = data['name']\n",
    "        types = [pokemon['type']['name'] for pokemon in data['types']]\n",
    "        abilities = [pokemon['ability']['name'] for pokemon in data['abilities']]\n",
    "        weight = data['weight']\n",
    "    \n",
    "        poke = {\n",
    "            \"name\": name,\n",
    "            'abilities': abilities,\n",
    "            'weight': weight,\n",
    "            'types' : types\n",
    "        }\n",
    "        return poke\n"
   ]
  },
  {
   "cell_type": "markdown",
   "metadata": {},
   "source": [
    "#### Use your function to create a dictionary of your Johto League 6  (favorite 6 pokemon)"
   ]
  },
  {
   "cell_type": "code",
   "execution_count": 10,
   "metadata": {},
   "outputs": [
    {
     "data": {
      "text/plain": [
       "{'Pikachu': {'name': 'pikachu',\n",
       "  'abilities': ['static', 'lightning-rod'],\n",
       "  'weight': 60,\n",
       "  'types': ['electric']},\n",
       " 'Snorlax': {'name': 'snorlax',\n",
       "  'abilities': ['immunity', 'thick-fat', 'gluttony'],\n",
       "  'weight': 4600,\n",
       "  'types': ['normal']},\n",
       " 'Ditto': {'name': 'ditto',\n",
       "  'abilities': ['limber', 'imposter'],\n",
       "  'weight': 40,\n",
       "  'types': ['normal']},\n",
       " 'Squirtle': {'name': 'squirtle',\n",
       "  'abilities': ['torrent', 'rain-dish'],\n",
       "  'weight': 90,\n",
       "  'types': ['water']},\n",
       " 'Dialga': {'name': 'dialga',\n",
       "  'abilities': ['pressure', 'telepathy'],\n",
       "  'weight': 6830,\n",
       "  'types': ['steel', 'dragon']},\n",
       " 'Jigglypuff': {'name': 'jigglypuff',\n",
       "  'abilities': ['cute-charm', 'competitive', 'friend-guard'],\n",
       "  'weight': 55,\n",
       "  'types': ['normal', 'fairy']}}"
      ]
     },
     "execution_count": 10,
     "metadata": {},
     "output_type": "execute_result"
    }
   ],
   "source": [
    "# Place all 6 of your pokemon on the object below, each pokemon should have at least as much info as Pikachu did.\n",
    "\n",
    "my_six_pokemon = {}\n",
    "for member in the_team:\n",
    "    poke_stats = poke_api_call(member)\n",
    "    my_six_pokemon[member.title()] = poke_stats\n",
    "\n",
    "my_six_pokemon"
   ]
  },
  {
   "cell_type": "markdown",
   "metadata": {},
   "source": [
    "## Lets create a class called 'Pokemon' and create our pokemon as instances"
   ]
  },
  {
   "cell_type": "code",
   "execution_count": 11,
   "metadata": {},
   "outputs": [
    {
     "ename": "NameError",
     "evalue": "name 'Move_Tutor' is not defined",
     "output_type": "error",
     "traceback": [
      "\u001b[0;31m---------------------------------------------------------------------------\u001b[0m",
      "\u001b[0;31mNameError\u001b[0m                                 Traceback (most recent call last)",
      "\u001b[0;32m/var/folders/qf/06zpqvt54kqd6k72l11m5v_c0000gn/T/ipykernel_79468/2080351759.py\u001b[0m in \u001b[0;36m<module>\u001b[0;34m\u001b[0m\n\u001b[0;32m----> 1\u001b[0;31m \u001b[0;32mclass\u001b[0m \u001b[0mPokemon\u001b[0m\u001b[0;34m(\u001b[0m\u001b[0mMove_Tutor\u001b[0m\u001b[0;34m)\u001b[0m\u001b[0;34m:\u001b[0m\u001b[0;34m\u001b[0m\u001b[0;34m\u001b[0m\u001b[0m\n\u001b[0m\u001b[1;32m      2\u001b[0m     \u001b[0;32mdef\u001b[0m \u001b[0m__init__\u001b[0m\u001b[0;34m(\u001b[0m\u001b[0mself\u001b[0m\u001b[0;34m,\u001b[0m \u001b[0mname\u001b[0m\u001b[0;34m)\u001b[0m\u001b[0;34m:\u001b[0m\u001b[0;34m\u001b[0m\u001b[0;34m\u001b[0m\u001b[0m\n\u001b[1;32m      3\u001b[0m         \u001b[0mself\u001b[0m\u001b[0;34m.\u001b[0m\u001b[0mname\u001b[0m \u001b[0;34m=\u001b[0m \u001b[0mname\u001b[0m\u001b[0;34m\u001b[0m\u001b[0;34m\u001b[0m\u001b[0m\n\u001b[1;32m      4\u001b[0m         \u001b[0mself\u001b[0m\u001b[0;34m.\u001b[0m\u001b[0mtypes\u001b[0m \u001b[0;34m=\u001b[0m \u001b[0;34m[\u001b[0m\u001b[0;34m]\u001b[0m\u001b[0;34m\u001b[0m\u001b[0;34m\u001b[0m\u001b[0m\n\u001b[1;32m      5\u001b[0m         \u001b[0mself\u001b[0m\u001b[0;34m.\u001b[0m\u001b[0mabilities\u001b[0m \u001b[0;34m=\u001b[0m \u001b[0;34m[\u001b[0m\u001b[0;34m]\u001b[0m\u001b[0;34m\u001b[0m\u001b[0;34m\u001b[0m\u001b[0m\n",
      "\u001b[0;31mNameError\u001b[0m: name 'Move_Tutor' is not defined"
     ]
    }
   ],
   "source": [
    "class Pokemon(Move_Tutor):\n",
    "    def __init__(self, name):\n",
    "        self.name = name\n",
    "        self.types = []\n",
    "        self.abilities = []\n",
    "        self.weight = None\n",
    "        \n",
    "        \n",
    "    def poke_api_call(self):\n",
    "        r = requests.get(f\"https://pokeapi.co/api/v2/pokemon/{self.name}\")\n",
    "        if r.status_code == 200:\n",
    "            data = r.json()\n",
    "        else:\n",
    "            print(f\"Ran into an issue {r.stat_code}\")\n",
    "            return\n",
    "        \n",
    "        self.types = [pokemon['type']['name'] for pokemon in data['types']]\n",
    "        self.abilities = [poke['ability']['name'] for poke in data['abilities']]\n",
    "        self.weight = data['weight']\n",
    "        print(f\"{self.name}\\'data has been updated! \")\n",
    "        \n",
    "        \n",
    "pikachu = Pokemon('pikachu')\n",
    "pikachu.poke_api_call()\n",
    "print(pikachu.__dict__)"
   ]
  },
  {
   "cell_type": "code",
   "execution_count": 12,
   "metadata": {},
   "outputs": [
    {
     "ename": "NameError",
     "evalue": "name 'move' is not defined",
     "output_type": "error",
     "traceback": [
      "\u001b[0;31m---------------------------------------------------------------------------\u001b[0m",
      "\u001b[0;31mNameError\u001b[0m                                 Traceback (most recent call last)",
      "\u001b[0;32m/var/folders/qf/06zpqvt54kqd6k72l11m5v_c0000gn/T/ipykernel_79468/3193170557.py\u001b[0m in \u001b[0;36m<module>\u001b[0;34m\u001b[0m\n\u001b[1;32m     23\u001b[0m         \u001b[0;32mreturn\u001b[0m \u001b[0mmove\u001b[0m\u001b[0;34m\u001b[0m\u001b[0;34m\u001b[0m\u001b[0m\n\u001b[1;32m     24\u001b[0m \u001b[0;34m\u001b[0m\u001b[0m\n\u001b[0;32m---> 25\u001b[0;31m \u001b[0mself\u001b[0m\u001b[0;34m.\u001b[0m\u001b[0mmoves\u001b[0m \u001b[0;34m=\u001b[0m \u001b[0mmove\u001b[0m\u001b[0;34m\u001b[0m\u001b[0;34m\u001b[0m\u001b[0m\n\u001b[0m\u001b[1;32m     26\u001b[0m \u001b[0mmoves\u001b[0m\u001b[0;34m.\u001b[0m\u001b[0mmoves_api_call\u001b[0m\u001b[0;34m(\u001b[0m\u001b[0;34m)\u001b[0m\u001b[0;34m\u001b[0m\u001b[0;34m\u001b[0m\u001b[0m\n",
      "\u001b[0;31mNameError\u001b[0m: name 'move' is not defined"
     ]
    }
   ],
   "source": [
    "class Move_Tutor():\n",
    "    def __init__(self):\n",
    "        self.moves = []\n",
    "    \n",
    "    def moves_api_call(self,moves):\n",
    "        r = requests.get(f\"https://pokeapi.co/api/v2/move/{moves}\")\n",
    "        if r.status_code == 200:\n",
    "            data = r.json()\n",
    "        else:\n",
    "            print(f'Ran into an issue {r.status_code}')\n",
    "            return data\n",
    "          \n",
    "        name = data['name']\n",
    "        accuracy = data['accuracy']\n",
    "        power = data['power']\n",
    "#         [pokemon['ability']['name'] for pokemon in data['abilities']]\n",
    "    \n",
    "        move = {\n",
    "            \"name\": name,\n",
    "            'accuracy': accuracy,\n",
    "            'power': power\n",
    "        }\n",
    "        return move\n",
    "\n",
    "self.moves = move\n",
    "moves.moves_api_call()"
   ]
  },
  {
   "cell_type": "code",
   "execution_count": 13,
   "metadata": {},
   "outputs": [
    {
     "ename": "SyntaxError",
     "evalue": "invalid syntax (1168442693.py, line 12)",
     "output_type": "error",
     "traceback": [
      "\u001b[0;36m  File \u001b[0;32m\"/var/folders/qf/06zpqvt54kqd6k72l11m5v_c0000gn/T/ipykernel_79468/1168442693.py\"\u001b[0;36m, line \u001b[0;32m12\u001b[0m\n\u001b[0;31m    print(pikachu.__dict__)pokemon = ['lugia', 'pikachu', 'charmander', 'bulbasaur', 'squirtle', 'hitmonlee']\u001b[0m\n\u001b[0m                           ^\u001b[0m\n\u001b[0;31mSyntaxError\u001b[0m\u001b[0;31m:\u001b[0m invalid syntax\n"
     ]
    }
   ],
   "source": [
    "pokemon = ['lugia', 'pikachu', 'charmander', 'bulbasaur', 'squirtle', 'hitmonlee']\n",
    "\n",
    "# dictionary of structure {name: object,}\n",
    "poke_dict = {}\n",
    "\n",
    "for name in pokemon:\n",
    "    new = Pokemon(name)\n",
    "    new.poke_api_call()\n",
    "    poke_dict[name] = new\n",
    "poke_dict\n",
    "\n",
    "print(pikachu.__dict__)pokemon = ['lugia', 'pikachu', 'charmander', 'bulbasaur', 'squirtle', 'hitmonlee']\n",
    "\n",
    "# dictionary of structure {name: object,}\n",
    "poke_dict = {}\n",
    "\n",
    "for name in pokemon:\n",
    "    new = Pokemon(name)\n",
    "    new.poke_api_call()\n",
    "    poke_dict[name] = new\n",
    "poke_dict\n",
    "\n",
    "print(pikachu.__dict__)"
   ]
  },
  {
   "cell_type": "markdown",
   "metadata": {},
   "source": [
    "### Where to go next? What to do with your Pokemon object? <br><br>\n",
    "## \"What to do now?\"<br>\n",
    "\n",
    "# Shopping cart style program?\n",
    "### User builds a team of pokemon\n",
    "    \n",
    "<p> we could turn our pokemon object that utilizes API calls into a shopping cart style program where we ask our user for input to choose pokemon to create </p> <br> <br>\n",
    "    \n",
    "# Check out what other endpoints the PokeAPI has to offer\n",
    "  I figured out that they have a region endpoint\n",
    " the region endpoint has a pokedex endpoint within it\n",
    " I can build a list of pokemon names from that pokedex endpoint\n",
    " I can use that list of pokemon names in my repeatable pokemon object creation and wind up with a massive list of pokemon\n",
    "<br><br>\n",
    "(note that the API will be a bit slower when you have hundreds of calls to make)\n",
    "        \n",
    "# Turn toward more user searching our pokemon lists - build functions for different types of search\n",
    " user can press 1 to search by name\n",
    " user can press 2 to search by type\n",
    " (have a function that loops through pokemon and figures out if they have the right type)"
   ]
  },
  {
   "cell_type": "code",
   "execution_count": 14,
   "metadata": {},
   "outputs": [
    {
     "name": "stdout",
     "output_type": "stream",
     "text": [
      "pikachu'data has been updated! \n"
     ]
    },
    {
     "ename": "TypeError",
     "evalue": "moves_api_call() missing 1 required positional argument: 'moves'",
     "output_type": "error",
     "traceback": [
      "\u001b[0;31m---------------------------------------------------------------------------\u001b[0m",
      "\u001b[0;31mTypeError\u001b[0m                                 Traceback (most recent call last)",
      "\u001b[0;32m/var/folders/qf/06zpqvt54kqd6k72l11m5v_c0000gn/T/ipykernel_79468/3505157932.py\u001b[0m in \u001b[0;36m<module>\u001b[0;34m\u001b[0m\n\u001b[1;32m     51\u001b[0m \u001b[0mpikachu\u001b[0m \u001b[0;34m=\u001b[0m \u001b[0mPokemon\u001b[0m\u001b[0;34m(\u001b[0m\u001b[0;34m'pikachu'\u001b[0m\u001b[0;34m)\u001b[0m\u001b[0;34m\u001b[0m\u001b[0;34m\u001b[0m\u001b[0m\n\u001b[1;32m     52\u001b[0m \u001b[0mpikachu\u001b[0m\u001b[0;34m.\u001b[0m\u001b[0mpoke_api_call\u001b[0m\u001b[0;34m(\u001b[0m\u001b[0;34m)\u001b[0m\u001b[0;34m\u001b[0m\u001b[0;34m\u001b[0m\u001b[0m\n\u001b[0;32m---> 53\u001b[0;31m \u001b[0mpikachu\u001b[0m\u001b[0;34m.\u001b[0m\u001b[0mmoves_api_call\u001b[0m\u001b[0;34m(\u001b[0m\u001b[0;34m)\u001b[0m\u001b[0;34m\u001b[0m\u001b[0;34m\u001b[0m\u001b[0m\n\u001b[0m\u001b[1;32m     54\u001b[0m \u001b[0;34m\u001b[0m\u001b[0m\n\u001b[1;32m     55\u001b[0m \u001b[0;32mfor\u001b[0m \u001b[0mmove\u001b[0m \u001b[0;32min\u001b[0m \u001b[0mpikachu\u001b[0m\u001b[0;34m.\u001b[0m\u001b[0mmoves_list\u001b[0m\u001b[0;34m:\u001b[0m\u001b[0;34m\u001b[0m\u001b[0;34m\u001b[0m\u001b[0m\n",
      "\u001b[0;31mTypeError\u001b[0m: moves_api_call() missing 1 required positional argument: 'moves'"
     ]
    }
   ],
   "source": [
    "class Pokemon(Move_Tutor):\n",
    "    def __init__(self, name):\n",
    "        Move_Tutor.__init__(self)\n",
    "        self.name = name\n",
    "        self.types = []\n",
    "        self.abilities = []\n",
    "        self.weight = None\n",
    "        \n",
    "        \n",
    "    def poke_api_call(self):\n",
    "        r = requests.get(f\"https://pokeapi.co/api/v2/pokemon/{self.name}\")\n",
    "        if r.status_code == 200:\n",
    "            data = r.json()\n",
    "        else:\n",
    "            print(f\"Ran into an issue {r.stat_code}\")\n",
    "            return\n",
    "        \n",
    "        self.types = [pokemon['type']['name'] for pokemon in data['types']]\n",
    "        self.abilities = [poke['ability']['name'] for poke in data['abilities']]\n",
    "        self.weight = data['weight']\n",
    "        print(f\"{self.name}\\'data has been updated! \")\n",
    "        \n",
    "class Move_Tutor():\n",
    "    def __init__(self):\n",
    "        self.moves_list = []\n",
    "    \n",
    "    def moves_api_call(self):\n",
    "        moves = input(\"What move do you want to add? \")\n",
    "        r = requests.get(f\"https://pokeapi.co/api/v2/move/{moves}\")\n",
    "        if r.status_code == 200:\n",
    "            data = r.json()\n",
    "        else:\n",
    "            print(f'Ran into an issue {r.status_code}')\n",
    "            return\n",
    "          \n",
    "        name = data['name']\n",
    "        accuracy = data['accuracy']\n",
    "        power = data['power']\n",
    "\n",
    "    \n",
    "        move = {\n",
    "            \"name\": name,\n",
    "            'accuracy': accuracy,\n",
    "            'power': power\n",
    "        }\n",
    "        self.moves_list.append(move)\n",
    "        \n",
    "        \n",
    "\n",
    "# Add moves to Pikachu\n",
    "pikachu = Pokemon('pikachu')\n",
    "pikachu.poke_api_call()\n",
    "pikachu.moves_api_call()\n",
    "\n",
    "for move in pikachu.moves_list:\n",
    "    print(pikachu.__dict__)\n",
    "\n",
    "# Add moves to Charizard\n",
    "charizard = Pokemon('charizard')\n",
    "charizard.poke_api_call()\n",
    "charizard.moves_api_call()\n",
    "\n",
    "for move in charizard.moves_list:\n",
    "    print(charizard.__dict__)"
   ]
  }
 ],
 "metadata": {
  "kernelspec": {
   "display_name": "Python 3 (ipykernel)",
   "language": "python",
   "name": "python3"
  },
  "language_info": {
   "codemirror_mode": {
    "name": "ipython",
    "version": 3
   },
   "file_extension": ".py",
   "mimetype": "text/x-python",
   "name": "python",
   "nbconvert_exporter": "python",
   "pygments_lexer": "ipython3",
   "version": "3.9.7"
  }
 },
 "nbformat": 4,
 "nbformat_minor": 4
}
